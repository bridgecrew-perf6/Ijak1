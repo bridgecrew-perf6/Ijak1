{
 "cells": [
  {
   "cell_type": "code",
   "execution_count": 1,
   "id": "ac42541d-253b-424c-8ac5-5c634b0b5aee",
   "metadata": {},
   "outputs": [],
   "source": [
    "import tensorflow as tf\n",
    "import numpy as np\n",
    "import pandas as pd\n",
    "from tensorflow import keras\n",
    "from tensorflow.keras import layers\n",
    "from tensorflow.keras.layers import IntegerLookup\n",
    "from tensorflow.keras.layers import Normalization\n",
    "from tensorflow.keras.layers import StringLookup\n",
    "model = tf.keras.models.load_model('model_percobaan', compile=False)"
   ]
  },
  {
   "cell_type": "code",
   "execution_count": 2,
   "id": "cf6efb1d-20a8-4015-b24d-9796c37661af",
   "metadata": {},
   "outputs": [],
   "source": [
    "def preprocess(filename):\n",
    "    dataku = pd.read_csv(filename)\n",
    "    dataku = dataku.drop([\"Country\",\"Age_0-9\",\"Age_10-19\",\"Age_20-24\",\"Age_25-59\",\"Age_60+\",\"Gender_Female\",\"Gender_Male\",\"Gender_Transgender\",\"Contact_Dont-Know\",\"Contact_No\",\"Contact_Yes\"], axis=1)\n",
    "    \n",
    "    def dataframe_to_dataset(dataframe):\n",
    "        dataframe = dataframe.copy()\n",
    "        labels = pd.concat([dataframe.pop(x) for x in ['Severity_Mild','Severity_Moderate','Severity_None','Severity_Severe']], axis=1)\n",
    "        ds = tf.data.Dataset.from_tensor_slices((dict(dataframe), labels))\n",
    "        ds = ds.shuffle(buffer_size=len(dataframe))\n",
    "        return ds\n",
    "    \n",
    "    ds = dataframe_to_dataset(dataku)\n",
    "    ds = ds.batch(32)\n",
    "    return ds\n",
    "    "
   ]
  },
  {
   "cell_type": "code",
   "execution_count": 3,
   "id": "508111cd-9ea7-42a9-b156-de2831d28f97",
   "metadata": {},
   "outputs": [],
   "source": [
    "def predict(data):\n",
    "    prediction = model.predict(data)\n",
    "    return prediction"
   ]
  },
  {
   "cell_type": "code",
   "execution_count": 4,
   "id": "a1fffb5c-3a09-4e2f-97e2-1e4a349afbca",
   "metadata": {},
   "outputs": [
    {
     "name": "stderr",
     "output_type": "stream",
     "text": [
      "C:\\Users\\LABKOM\\anaconda3\\envs\\ijak1\\lib\\site-packages\\keras\\engine\\functional.py:566: UserWarning: Input dict contained keys ['Unnamed: 0'] which did not match any model input. They will be ignored by the model.\n",
      "  inputs = self._flatten_to_reference_inputs(inputs)\n"
     ]
    },
    {
     "name": "stdout",
     "output_type": "stream",
     "text": [
      "1980/1980 [==============================] - 3s 1ms/step\n",
      "[[0.2513039  0.2478699  0.2522352  0.24859104]\n",
      " [0.2513039  0.2478699  0.2522352  0.24859104]\n",
      " [0.2513039  0.2478699  0.2522352  0.24859104]\n",
      " ...\n",
      " [0.2513039  0.2478699  0.2522352  0.24859104]\n",
      " [0.2513039  0.2478699  0.2522352  0.24859104]\n",
      " [0.2513039  0.2478699  0.2522352  0.24859104]]\n"
     ]
    }
   ],
   "source": [
    "if __name__ == '__main__':\n",
    "    ''' for test'''\n",
    "    test = preprocess('validation_data.csv')\n",
    "    prediction = predict(test)\n",
    "    print(prediction)"
   ]
  },
  {
   "cell_type": "code",
   "execution_count": null,
   "id": "128f9b72-3689-4562-9752-655189d2c562",
   "metadata": {},
   "outputs": [],
   "source": []
  }
 ],
 "metadata": {
  "kernelspec": {
   "display_name": "Python 3 (ipykernel)",
   "language": "python",
   "name": "python3"
  },
  "language_info": {
   "codemirror_mode": {
    "name": "ipython",
    "version": 3
   },
   "file_extension": ".py",
   "mimetype": "text/x-python",
   "name": "python",
   "nbconvert_exporter": "python",
   "pygments_lexer": "ipython3",
   "version": "3.10.4"
  }
 },
 "nbformat": 4,
 "nbformat_minor": 5
}
