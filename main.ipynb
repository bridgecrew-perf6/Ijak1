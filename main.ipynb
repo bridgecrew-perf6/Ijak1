{
 "cells": [
  {
   "cell_type": "code",
   "execution_count": 1,
   "id": "02c7a0b8-962d-437d-9ec4-3bef69b6eb3f",
   "metadata": {},
   "outputs": [],
   "source": [
    "from flask import Flask, make_response, request, render_template\n",
    "import io\n",
    "from io import StringIO\n",
    "import csv\n",
    "import pandas as pd\n",
    "import numpy as np\n",
    "from datetime import datetime\n",
    "import os\n",
    "from keras.models import load_model\n",
    "from flask_preprocess import preprocess\n",
    "\n",
    "app = Flask(__name__)"
   ]
  },
  {
   "cell_type": "code",
   "execution_count": 2,
   "id": "b20091ef-8cf0-423d-8f96-44e3e5b596d9",
   "metadata": {},
   "outputs": [],
   "source": [
    "@app.route(\"/\")\n",
    "def home():\n",
    "    return \"Ijak ni ges\""
   ]
  },
  {
   "cell_type": "code",
   "execution_count": 3,
   "id": "f87a1497-c70e-473f-9989-5399c75b75b9",
   "metadata": {},
   "outputs": [],
   "source": [
    "@app.route(\"/predict\", methods=[\"POST\"])\n",
    "def predict():\n",
    "    if request.method == 'POST':\n",
    "        f = request.files['data_file']\n",
    "        if not f:\n",
    "            return \"No file\"\n",
    "        \n",
    "    stream = io.StringIO(f.stream.read().decode(\"UTF8\"), newline=None)\n",
    "    csv_input = csv.reader(stream)\n",
    "    stream.seek(0)\n",
    "    result = stream.read()\n",
    "    data = pd.read_csv(StringIO(result))\n",
    "    model = load_model('model_percobaan', compile=False)\n",
    "    df = preprocess(data)\n",
    "    prediction = model.predict(df)\n",
    "    df_predict = pd.DataFrame(prediction, columns=[['Severity_Mild','Severity_Moderate','Severity_None','Severity_Severe']])\n",
    "    df_predict.to_csv(\"prediction.csv\", index=False, header=False, encoding='utf8')\n",
    "    \n",
    "    response = make_response(df_predict.to_csv())\n",
    "    response.headers[\"Content-Disposition\"] = \"attachment; filename=result.csv\"\n",
    "    return response"
   ]
  },
  {
   "cell_type": "code",
   "execution_count": 4,
   "id": "b575053e-3aa0-496b-8ca5-6208116407d9",
   "metadata": {},
   "outputs": [
    {
     "name": "stdout",
     "output_type": "stream",
     "text": [
      " * Serving Flask app '__main__' (lazy loading)\n",
      " * Environment: production\n",
      "\u001b[31m   WARNING: This is a development server. Do not use it in a production deployment.\u001b[0m\n",
      "\u001b[2m   Use a production WSGI server instead.\u001b[0m\n",
      " * Debug mode: off\n"
     ]
    },
    {
     "name": "stderr",
     "output_type": "stream",
     "text": [
      " * Running on http://127.0.0.1:5000 (Press CTRL+C to quit)\n",
      "127.0.0.1 - - [03/Jun/2022 22:55:52] \"GET / HTTP/1.1\" 200 -\n"
     ]
    }
   ],
   "source": [
    "if (__name__ == \"__main__\"):\n",
    "     app.run(port = 5000, use_reloader=False)"
   ]
  },
  {
   "cell_type": "code",
   "execution_count": null,
   "id": "c5d721d6-e6d0-48d5-9f0c-ccbd98a5352c",
   "metadata": {},
   "outputs": [],
   "source": []
  }
 ],
 "metadata": {
  "kernelspec": {
   "display_name": "Python 3 (ipykernel)",
   "language": "python",
   "name": "python3"
  },
  "language_info": {
   "codemirror_mode": {
    "name": "ipython",
    "version": 3
   },
   "file_extension": ".py",
   "mimetype": "text/x-python",
   "name": "python",
   "nbconvert_exporter": "python",
   "pygments_lexer": "ipython3",
   "version": "3.10.4"
  }
 },
 "nbformat": 4,
 "nbformat_minor": 5
}
