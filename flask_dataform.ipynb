{
 "cells": [
  {
   "cell_type": "code",
   "execution_count": 1,
   "id": "95eb8d5a-2d04-40c6-b5f7-7609bda01ddf",
   "metadata": {},
   "outputs": [],
   "source": [
    "from flask import Flask, make_response, request, render_template\n",
    "import io\n",
    "from io import StringIO\n",
    "import csv\n",
    "import pandas as pd\n",
    "import numpy as np\n",
    "from datetime import datetime\n",
    "import os\n",
    "from keras.models import load_model\n",
    "from flask_preprocess import preprocess\n",
    "\n",
    "app = Flask(__name__)"
   ]
  },
  {
   "cell_type": "code",
   "execution_count": 2,
   "id": "731e3dd2-4af5-4d90-995a-fac5da12b0cd",
   "metadata": {},
   "outputs": [],
   "source": [
    "@app.route('/')\n",
    "def form():\n",
    "    return \"\"\"\n",
    "        <html>\n",
    "            <body>\n",
    "                <h1>COVID19 Severity Prediction</h1>\n",
    "                </br>\n",
    "                </br>\n",
    "                <p> Insert your CSV file and then download the result\n",
    "                <form action=\"/predict\" method=\"post\" enctype=\"multipart/form-data\">\n",
    "                    <input type=\"file\" name=\"data_file\" class=\"btn btn-block\"/>\n",
    "                    </br>\n",
    "                    </br>\n",
    "                    <button type=\"submit\" class=\"btn btn-primary btn-block btn-large\">Predict</button>\n",
    "                </form>\n",
    "            </body>\n",
    "        </html>\n",
    "    \"\"\""
   ]
  },
  {
   "cell_type": "code",
   "execution_count": 3,
   "id": "260b134c-5bde-4a4c-9f81-e846593a0a25",
   "metadata": {},
   "outputs": [],
   "source": [
    "@app.route('/predict', methods=[\"POST\"])\n",
    "def transform_view():\n",
    "    if request.method == 'POST':\n",
    "        f = request.files['data_file']\n",
    "        if not f:\n",
    "            return \"No file\"\n",
    "    \n",
    "    stream = io.StringIO(f.stream.read().decode(\"UTF8\"), newline=None)\n",
    "    csv_input = csv.reader(stream)\n",
    "    stream.seek(0)\n",
    "    result = stream.read()\n",
    "    data = pd.read_csv(StringIO(result))\n",
    "    model = load_model('model_percobaan', compile=False)\n",
    "    df = preprocess(data)\n",
    "    prediction = model.predict(df)\n",
    "    df_predict = pd.DataFrame(prediction, columns=[['Severity_Mild','Severity_Moderate','Severity_None','Severity_Severe']])\n",
    "    df_predict.to_csv(\"prediction.csv\", index=False, header=False, encoding='utf8')\n",
    "    \n",
    "    response = make_response(df_predict.to_csv())\n",
    "    response.headers[\"Content-Disposition\"] = \"attachment; filename=result.csv\"\n",
    "    return response"
   ]
  },
  {
   "cell_type": "code",
   "execution_count": 4,
   "id": "cff5fb8d-6528-4334-adc0-d0288d26e550",
   "metadata": {},
   "outputs": [
    {
     "name": "stdout",
     "output_type": "stream",
     "text": [
      " * Serving Flask app '__main__' (lazy loading)\n",
      " * Environment: production\n",
      "\u001b[31m   WARNING: This is a development server. Do not use it in a production deployment.\u001b[0m\n",
      "\u001b[2m   Use a production WSGI server instead.\u001b[0m\n",
      " * Debug mode: off\n"
     ]
    },
    {
     "name": "stderr",
     "output_type": "stream",
     "text": [
      " * Running on http://127.0.0.1:5000 (Press CTRL+C to quit)\n",
      "127.0.0.1 - - [03/Jun/2022 22:51:36] \"GET / HTTP/1.1\" 200 -\n"
     ]
    },
    {
     "name": "stdout",
     "output_type": "stream",
     "text": [
      "1980/1980 [==============================] - 3s 1ms/step\n"
     ]
    },
    {
     "name": "stderr",
     "output_type": "stream",
     "text": [
      "127.0.0.1 - - [03/Jun/2022 22:51:47] \"POST /predict HTTP/1.1\" 200 -\n"
     ]
    }
   ],
   "source": [
    "if (__name__ == \"__main__\"):\n",
    "     app.run(port = 5000, use_reloader=False)"
   ]
  },
  {
   "cell_type": "code",
   "execution_count": null,
   "id": "36463791-c6ed-4789-92ae-599b63c63b53",
   "metadata": {},
   "outputs": [],
   "source": []
  }
 ],
 "metadata": {
  "kernelspec": {
   "display_name": "Python 3 (ipykernel)",
   "language": "python",
   "name": "python3"
  },
  "language_info": {
   "codemirror_mode": {
    "name": "ipython",
    "version": 3
   },
   "file_extension": ".py",
   "mimetype": "text/x-python",
   "name": "python",
   "nbconvert_exporter": "python",
   "pygments_lexer": "ipython3",
   "version": "3.10.4"
  }
 },
 "nbformat": 4,
 "nbformat_minor": 5
}
